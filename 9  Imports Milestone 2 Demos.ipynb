{
 "cells": [
  {
   "cell_type": "markdown",
   "metadata": {
    "slideshow": {
     "slide_type": "notes"
    }
   },
   "source": [
    "## Demos"
   ]
  },
  {
   "cell_type": "markdown",
   "metadata": {
    "slideshow": {
     "slide_type": "notes"
    }
   },
   "source": [
    "### Creating a 'safe' module\n",
    "\n",
    "Since all code is executed when a module is imported, even if we don't need the whole module, we need a way to only have code that is safe execute when we load it, but still be able to use all of the code when we need it. \n",
    "\n",
    "For example if we have code that deletes a database in a module, we probably don't want that to happen every time we import even one object from that module.\n",
    "\n",
    "The answer is in two parts: \n",
    "1. any code that we don't want automatically executed should go into a function or a class. About the only thing that we would leave outside of functions would be initializing variables that will accessible to the entire module. \n",
    "2. if you do want the module to a stand alone script, you can check the `__name__` variable in the module namespace. If `__name__` is `'__main__'` the module is being run as the main script and should execute some code and/or call functions or methods. \n",
    "\n",
    "For a single file module, the accepted pattern is to but an `if` clause at the bottom that checks the `__name__` attribute of the module and only does something if that property is `__main__`.\n",
    "\n",
    "```python\n",
    "if __name__ == \"__main__\":\n",
    "    # do stuff, e.g.,\n",
    "    print(\"Running as main\")\n",
    "```"
   ]
  },
  {
   "cell_type": "code",
   "execution_count": 1,
   "metadata": {
    "slideshow": {
     "slide_type": "slide"
    }
   },
   "outputs": [
    {
     "name": "stdout",
     "output_type": "stream",
     "text": [
      "running as main program, calling module's function\n",
      "hello from the module's function\n"
     ]
    }
   ],
   "source": [
    "# CONTENTS OF simple_module.py\n",
    "\n",
    "\n",
    "def module_function():\n",
    "    print(\"hello from the module's function\")\n",
    "    \n",
    "if __name__ == \"__main__\":\n",
    "    print(\"running as main program, calling module's function\")\n",
    "    module_function()"
   ]
  },
  {
   "cell_type": "code",
   "execution_count": 2,
   "metadata": {
    "slideshow": {
     "slide_type": "slide"
    }
   },
   "outputs": [],
   "source": [
    "import simple_module"
   ]
  },
  {
   "cell_type": "code",
   "execution_count": 3,
   "metadata": {
    "slideshow": {
     "slide_type": "slide"
    }
   },
   "outputs": [
    {
     "name": "stdout",
     "output_type": "stream",
     "text": [
      "hello from the module's function\n"
     ]
    }
   ],
   "source": [
    "simple_module.module_function()"
   ]
  },
  {
   "cell_type": "code",
   "execution_count": 1,
   "metadata": {},
   "outputs": [
    {
     "name": "stdout",
     "output_type": "stream",
     "text": [
      "running as main program, calling module's function\r\n",
      "hello from the module's function\r\n"
     ]
    }
   ],
   "source": [
    "!python simple_module.py"
   ]
  },
  {
   "cell_type": "markdown",
   "metadata": {
    "slideshow": {
     "slide_type": "notes"
    }
   },
   "source": [
    "### Simple packages\n",
    "\n",
    "Our tiny module is super simple, but often the code for a module doesn't fit into a single file - it gets too long, or there are different, but related objects where it might be nice to be able to maintain, test, and use them separate. Or maybe, as with `math` and `cmath` there are parallel sets of objects where it makes sense that they have the same name, and they'll never be used at the same time. \n",
    "\n",
    "In any case, using more than one file means that you need to create a 'package' in a way that Python can recognize. The most common way to do that this to create a separate directory for the package and put the files and a special file named `__init__.py` in that directory. \n",
    "\n",
    "Creating a package:\n",
    "* a folder + `__init__.py` and the .py files\n",
    "* the code in `__init__.py` is executed when the file is loaded\n",
    "* packages can be nested"
   ]
  },
  {
   "cell_type": "markdown",
   "metadata": {
    "slideshow": {
     "slide_type": "notes"
    }
   },
   "source": [
    "### Source is not in this notebook - see files in github repository\n",
    "\n",
    "### create directory test_package\n",
    "\n",
    "\n",
    "### create `__init__.py` in test_package\n",
    "\n",
    "\n",
    "### create file `simple_module.py` in test_package"
   ]
  },
  {
   "cell_type": "markdown",
   "metadata": {
    "slideshow": {
     "slide_type": "slide"
    }
   },
   "source": [
    "### Contents of simple_package and simple_module.py\n",
    "\n",
    "```\n",
    "simple_package\n",
    "    |\n",
    "    __init__.py\n",
    "    |\n",
    "    simple_module.py\n",
    "      | module_function\n",
    "```"
   ]
  }
 ],
 "metadata": {
  "celltoolbar": "Slideshow",
  "kernelspec": {
   "display_name": "Python 3 (ipykernel)",
   "language": "python",
   "name": "python3"
  },
  "language_info": {
   "codemirror_mode": {
    "name": "ipython",
    "version": 3
   },
   "file_extension": ".py",
   "mimetype": "text/x-python",
   "name": "python",
   "nbconvert_exporter": "python",
   "pygments_lexer": "ipython3",
   "version": "3.9.7"
  },
  "livereveal": {
   "scroll": true,
   "start_slideshow_at": "selected",
   "theme": "white",
   "transition": "none"
  },
  "toc": {
   "base_numbering": 1,
   "nav_menu": {},
   "number_sections": false,
   "sideBar": true,
   "skip_h1_title": false,
   "title_cell": "Table of Contents",
   "title_sidebar": "Contents",
   "toc_cell": false,
   "toc_position": {},
   "toc_section_display": true,
   "toc_window_display": false
  }
 },
 "nbformat": 4,
 "nbformat_minor": 4
}
