{
 "cells": [
  {
   "cell_type": "markdown",
   "metadata": {},
   "source": [
    "## Workflow: How to Create Safe Modules and Packages\n",
    "\n",
    "**Objective**\n",
    "\n",
    "- Understand how to write a module so that the wrong code doesn’t execute on import\n",
    "- Learning to use the `__name__` attribute to execute a “main” function\n",
    "- Discover how to create a multifile package\n",
    "\n",
    "**Importance to project**\n",
    "\n",
    "- With the knowledge gained in this milestone you will be able to write modules that can be safely imported or executed as standalone scripts.\n",
    "- You will be able to write packages containing multiple files\n",
    "\n",
    "***Author insights***\n",
    "\n",
    "\\*\\*Running a Python command from inside a Jupyter notebook \\*\\*\n",
    "\n",
    "In this milestone, it is important for you to see how a module behaves if it’s run as the main Python program. That’s not possible in a normal Jupyter notebook cell, but you can achieve it by using one of Jupyter’s special features—the ability to run external shell commands by using “!” as a prefix.\n",
    "\n",
    "So to run `simple_module.py` as the main command with Python, you can do the following:\n",
    "\n",
    "```\n",
    "! python simple_module.py\n",
    "```\n",
    "```\n",
    "running as main program, calling module's functionhello from the module's function\n",
    "```\n",
    "\n",
    "**Deliverable**\n",
    "\n",
    "The first deliverable for this milestone is the code for both the safe module and the tests that show it works.\n",
    "\n",
    "The second deliverable is the package that you created in Step 3 and Jupyter notebook tests that show it works."
   ]
  },
  {
   "cell_type": "code",
   "execution_count": 1,
   "metadata": {},
   "outputs": [
    {
     "name": "stdout",
     "output_type": "stream",
     "text": [
      "running as main program, calling module's function\n",
      "hello from the module's function\n"
     ]
    }
   ],
   "source": [
    "# 1. demo video ... see repo for source files\n",
    "\n",
    "! python simple_module.py"
   ]
  },
  {
   "cell_type": "code",
   "execution_count": 2,
   "metadata": {},
   "outputs": [],
   "source": [
    "import simple_module"
   ]
  },
  {
   "cell_type": "code",
   "execution_count": 3,
   "metadata": {},
   "outputs": [
    {
     "name": "stdout",
     "output_type": "stream",
     "text": [
      "hello from the module's function\n"
     ]
    }
   ],
   "source": [
    "simple_module.module_function()"
   ]
  },
  {
   "cell_type": "code",
   "execution_count": 4,
   "metadata": {},
   "outputs": [
    {
     "name": "stdout",
     "output_type": "stream",
     "text": [
      "hello from __init__.py\n"
     ]
    }
   ],
   "source": [
    "import simple_package"
   ]
  },
  {
   "cell_type": "code",
   "execution_count": 5,
   "metadata": {},
   "outputs": [
    {
     "name": "stdout",
     "output_type": "stream",
     "text": [
      "running as main program, calling module's function\n",
      "hello from the module's function()\n"
     ]
    }
   ],
   "source": [
    "! python simple_package/\\simple_module.py"
   ]
  },
  {
   "cell_type": "code",
   "execution_count": 2,
   "metadata": {},
   "outputs": [
    {
     "name": "stdout",
     "output_type": "stream",
     "text": [
      "counter is 1\n"
     ]
    }
   ],
   "source": [
    "# 2. ...rework test_module.py...\n",
    "\n",
    "! python test_module_safe.py"
   ]
  },
  {
   "cell_type": "code",
   "execution_count": 3,
   "metadata": {},
   "outputs": [
    {
     "name": "stdout",
     "output_type": "stream",
     "text": [
      "counter is 2\n",
      "2 42 0\n"
     ]
    }
   ],
   "source": [
    "import test_module_safe\n",
    "\n",
    "test_module_safe.increment_counter()\n",
    "test_module_safe.show_counter()\n",
    "print(test_module_safe.counter, test_module_safe.A_CONSTANT, test_module_safe._private_counter)"
   ]
  },
  {
   "cell_type": "code",
   "execution_count": 1,
   "metadata": {},
   "outputs": [
    {
     "name": "stdout",
     "output_type": "stream",
     "text": [
      "Executed test_function in test_module in test_package\n"
     ]
    }
   ],
   "source": [
    "# 3. Create a simple test_package...\n",
    "\n",
    "import test_package.test_module\n",
    "test_package.test_module.test_function()"
   ]
  },
  {
   "cell_type": "code",
   "execution_count": 1,
   "metadata": {},
   "outputs": [
    {
     "name": "stdout",
     "output_type": "stream",
     "text": [
      "Executed test_function in test_module in test_package\n"
     ]
    }
   ],
   "source": [
    "# ... after optional improvement...\n",
    "import test_package\n",
    "test_package.test_function()"
   ]
  }
 ],
 "metadata": {
  "kernelspec": {
   "display_name": "Python 3",
   "language": "python",
   "name": "python3"
  },
  "language_info": {
   "codemirror_mode": {
    "name": "ipython",
    "version": 3
   },
   "file_extension": ".py",
   "mimetype": "text/x-python",
   "name": "python",
   "nbconvert_exporter": "python",
   "pygments_lexer": "ipython3",
   "version": "3.12.8"
  }
 },
 "nbformat": 4,
 "nbformat_minor": 2
}
